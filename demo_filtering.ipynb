{
 "cells": [
  {
   "cell_type": "markdown",
   "metadata": {},
   "source": [
    "# Filtering"
   ]
  },
  {
   "cell_type": "code",
   "execution_count": null,
   "metadata": {},
   "outputs": [],
   "source": [
    "import numpy as np\n",
    "import scipy\n",
    "from scipy import signal\n",
    "import matplotlib.pyplot as plt"
   ]
  },
  {
   "cell_type": "markdown",
   "metadata": {},
   "source": [
    "## Obtain low-pass filter coefficients for a difference equation (DE)"
   ]
  },
  {
   "cell_type": "code",
   "execution_count": null,
   "metadata": {},
   "outputs": [],
   "source": [
    "b,a = signal.butter(2, 1/4)\n",
    "print(\"a = \", a)\n",
    "print(\"b = \", b)"
   ]
  },
  {
   "cell_type": "markdown",
   "metadata": {},
   "source": [
    "### Z-plane zero-pole plot of the transfer function $ H(z) = B(z) / A(z)$"
   ]
  },
  {
   "cell_type": "code",
   "execution_count": null,
   "metadata": {},
   "outputs": [],
   "source": [
    "def zplane(b, a):\n",
    "    # First, retrieve the poles and zeros\n",
    "    z,p,k = signal.tf2zpk(b,a)\n",
    "    # Plot the unit circle \n",
    "    circle = plt.Circle((0,0),1,linestyle='--',fill=False)\n",
    "    fig,ax = plt.subplots(figsize=(8,8))\n",
    "\n",
    "    ax.add_artist(circle)\n",
    "    plt.grid(axis='both',which='both')\n",
    "    plt.xlim((-1.5,1.5))\n",
    "    plt.ylim((-1.5,1.5))\n",
    "\n",
    "    # Plot zeros\n",
    "    plt.plot(np.real(z),np.imag(z),'o',markersize=12,fillstyle='none')\n",
    "    plt.plot(np.real(p),np.imag(p),'x',markersize=12)\n",
    "    plt.xlabel('Real')\n",
    "    plt.ylabel('Imaginary')\n",
    "    plt.title('Zero-pole plot')"
   ]
  },
  {
   "cell_type": "code",
   "execution_count": null,
   "metadata": {},
   "outputs": [],
   "source": [
    "zplane(b, a)"
   ]
  },
  {
   "cell_type": "markdown",
   "metadata": {},
   "source": [
    "### Impulse response $h[n]$ of the transfer function $H(z) = B(z) / A(z)$"
   ]
  },
  {
   "cell_type": "code",
   "execution_count": null,
   "metadata": {},
   "outputs": [],
   "source": [
    "def impz(b,a,N=50):\n",
    "    n = np.arange(N)\n",
    "    x = signal.unit_impulse(N,0)\n",
    "    h = signal.lfilter(b,a,x)\n",
    "    plt.stem(n,h)\n",
    "    plt.title('Impulse response')\n",
    "    plt.xlabel('n')\n",
    "    plt.ylabel('h[n]')"
   ]
  },
  {
   "cell_type": "code",
   "execution_count": null,
   "metadata": {},
   "outputs": [],
   "source": [
    "impz(b, a, 50)"
   ]
  },
  {
   "cell_type": "markdown",
   "metadata": {},
   "source": [
    "### Frequency response $H_d(\\omega)$ of the transfer function $H(z) = B(z) / A(z)$\n",
    "This function is provided for readibility. In practice, use function scipy.signal.freqz"
   ]
  },
  {
   "cell_type": "code",
   "execution_count": null,
   "metadata": {},
   "outputs": [],
   "source": [
    "def freqresp(b, a, w):\n",
    "    z = np.exp(1j * w)   # z is on the unit circle\n",
    "    \n",
    "    Bw = np.zeros_like(w, dtype=complex)\n",
    "    for k in range(len(b)):\n",
    "        Bw = Bw + b[k] * (z ** (-k))\n",
    "        \n",
    "        \n",
    "    Aw = np.zeros_like(w, dtype=complex)\n",
    "    for k in range(len(a)):\n",
    "        Aw = Aw + a[k] * (z ** (-k))\n",
    "    \n",
    "    return Bw / Aw"
   ]
  },
  {
   "cell_type": "code",
   "execution_count": null,
   "metadata": {},
   "outputs": [],
   "source": [
    "w = np.linspace(-np.pi, np.pi, 100)   # $\\omega$ values between -pi to +pi"
   ]
  },
  {
   "cell_type": "code",
   "execution_count": null,
   "metadata": {},
   "outputs": [],
   "source": [
    "Hw = freqresp(b, a, w)\n",
    "plt.plot(w, np.absolute(Hw))\n",
    "plt.title('$|H_d(\\omega)|$')"
   ]
  },
  {
   "cell_type": "markdown",
   "metadata": {},
   "source": [
    "## Load a test signal"
   ]
  },
  {
   "cell_type": "code",
   "execution_count": null,
   "metadata": {},
   "outputs": [],
   "source": [
    "from scipy.io.wavfile import read\n",
    "from IPython.display import Audio\n",
    "fs, x = read('handel.wav')"
   ]
  },
  {
   "cell_type": "markdown",
   "metadata": {},
   "source": [
    "### Apply the DE specified by $b$ and $a$ to an input signal $x$ to get $y$"
   ]
  },
  {
   "cell_type": "code",
   "execution_count": null,
   "metadata": {},
   "outputs": [],
   "source": [
    "y = signal.lfilter(b, a, x)"
   ]
  },
  {
   "cell_type": "markdown",
   "metadata": {},
   "source": [
    "## Check the filtering effect in the DTFT\n",
    "This function is provided for readibility. In the future, we will use the DFT/FFT function numpy.fft"
   ]
  },
  {
   "cell_type": "code",
   "execution_count": null,
   "metadata": {},
   "outputs": [],
   "source": [
    "def DTFT(x, n0, w):\n",
    "    '''\n",
    "    DTFT    Compute the Discrete-Time Fourier Transform of a signal\n",
    "        Input:\n",
    "          x  : discrete-time signal in an array\n",
    "          n0 : index of the signal corresponding to the sample x[0]\n",
    "          w  : array of frequencies that we want to compute DTFT\n",
    "               for example: w = np.linspace(-pi,pi,100)\n",
    "        Output:\n",
    "          X  : DTFT coefficients at the specified frequencies w\n",
    "    '''\n",
    "    X = np.zeros_like(w,dtype=complex) # data types: important in Python!!\n",
    "    # For each frequency in w\n",
    "    for k in range(len(w)):\n",
    "        # Compute the DTFT sum over signal samples\n",
    "        X[k] = 0\n",
    "        for n in range(len(x)):\n",
    "            X[k] = X[k] + x[n] * np.exp(-1j * w[k] * (n + n0))\n",
    "            \n",
    "    return X"
   ]
  },
  {
   "cell_type": "code",
   "execution_count": null,
   "metadata": {
    "scrolled": true
   },
   "outputs": [],
   "source": [
    "X = DTFT(x[0:100], 0, w) # Compute the DTFT of a 100-sample segnment of x\n",
    "plt.plot(w, np.absolute(X))\n",
    "plt.title('$|X_d(\\omega)|$'); # Plot out the DTFT in magnitude"
   ]
  },
  {
   "cell_type": "code",
   "execution_count": null,
   "metadata": {},
   "outputs": [],
   "source": [
    "Y = DTFT(y[0:100], 0, w) # Compute the DTFT of a 100-sample segnment of y\n",
    "plt.plot(w, np.absolute(Y))\n",
    "plt.title('$|Y_d(\\omega)|$'); # Plot out the DTFT in magnitude"
   ]
  },
  {
   "cell_type": "markdown",
   "metadata": {},
   "source": [
    "## Try with a different filter"
   ]
  },
  {
   "cell_type": "code",
   "execution_count": null,
   "metadata": {},
   "outputs": [],
   "source": [
    "b2, a2 = signal.butter(2, 1/4, 'high')\n",
    "print(\"a2 = \", a2)\n",
    "print(\"b2 = \", b2)"
   ]
  },
  {
   "cell_type": "code",
   "execution_count": null,
   "metadata": {},
   "outputs": [],
   "source": [
    "y2 = signal.lfilter(b2, a2, x)"
   ]
  },
  {
   "cell_type": "code",
   "execution_count": null,
   "metadata": {},
   "outputs": [],
   "source": [
    "Y2 = DTFT(y2[0:100], 0, w) # Compute the DTFT of a 100-sample segnment of y2\n",
    "plt.plot(w, np.absolute(Y2))\n",
    "plt.title('$|Y2_d(\\omega)|$'); # Plot out the DTFT in magnitude"
   ]
  },
  {
   "cell_type": "markdown",
   "metadata": {},
   "source": [
    "## Compare sounds"
   ]
  },
  {
   "cell_type": "code",
   "execution_count": null,
   "metadata": {},
   "outputs": [],
   "source": [
    "Audio(data=x, rate=fs)"
   ]
  },
  {
   "cell_type": "code",
   "execution_count": null,
   "metadata": {},
   "outputs": [],
   "source": [
    "Audio(data=y, rate=fs)"
   ]
  },
  {
   "cell_type": "code",
   "execution_count": null,
   "metadata": {},
   "outputs": [],
   "source": [
    "Audio(data=y2, rate=fs)"
   ]
  },
  {
   "cell_type": "code",
   "execution_count": null,
   "metadata": {},
   "outputs": [],
   "source": []
  }
 ],
 "metadata": {
  "anaconda-cloud": {},
  "kernelspec": {
   "display_name": "Python 3",
   "language": "python",
   "name": "python3"
  },
  "language_info": {
   "codemirror_mode": {
    "name": "ipython",
    "version": 3
   },
   "file_extension": ".py",
   "mimetype": "text/x-python",
   "name": "python",
   "nbconvert_exporter": "python",
   "pygments_lexer": "ipython3",
   "version": "3.7.0"
  },
  "toc": {
   "base_numbering": 1,
   "nav_menu": {},
   "number_sections": true,
   "sideBar": true,
   "skip_h1_title": false,
   "title_cell": "Table of Contents",
   "title_sidebar": "Contents",
   "toc_cell": false,
   "toc_position": {},
   "toc_section_display": true,
   "toc_window_display": false
  }
 },
 "nbformat": 4,
 "nbformat_minor": 1
}
