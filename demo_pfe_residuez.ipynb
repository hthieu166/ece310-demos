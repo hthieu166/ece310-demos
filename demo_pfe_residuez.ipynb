{
 "cells": [
  {
   "cell_type": "markdown",
   "metadata": {},
   "source": [
    "# Partial Fraction Expansion (PFE) using 'residuez'"
   ]
  },
  {
   "cell_type": "code",
   "execution_count": 1,
   "metadata": {},
   "outputs": [],
   "source": [
    "import numpy as np\n",
    "from scipy.signal import residuez"
   ]
  },
  {
   "cell_type": "code",
   "execution_count": 2,
   "metadata": {},
   "outputs": [
    {
     "name": "stdout",
     "output_type": "stream",
     "text": [
      "R =  [-0.66666667]\n",
      "P =  [0.2]\n",
      "K =  [0.66666667 0.33333333]\n"
     ]
    }
   ],
   "source": [
    "B = np.array([0, 1/5, -1/15])\n",
    "A = np.array([1, -1/5])\n",
    "\n",
    "R, P, K = residuez(B, A)\n",
    "\n",
    "print(\"R = \", R)\n",
    "print(\"P = \", P)\n",
    "print(\"K = \", K)"
   ]
  },
  {
   "cell_type": "code",
   "execution_count": 3,
   "metadata": {},
   "outputs": [
    {
     "name": "stdout",
     "output_type": "stream",
     "text": [
      "R =  [-0.  1.]\n",
      "P =  [1. 1.]\n",
      "K =  [0.]\n"
     ]
    }
   ],
   "source": [
    "B = np.array([1])\n",
    "A = np.array([1, -2, 1])\n",
    "\n",
    "R, P, K = residuez(B, A)\n",
    "\n",
    "print(\"R = \", R)\n",
    "print(\"P = \", P)\n",
    "print(\"K = \", K)"
   ]
  },
  {
   "cell_type": "code",
   "execution_count": null,
   "metadata": {},
   "outputs": [],
   "source": []
  }
 ],
 "metadata": {
  "kernelspec": {
   "display_name": "Python 3 (ipykernel)",
   "language": "python",
   "name": "python3"
  },
  "language_info": {
   "codemirror_mode": {
    "name": "ipython",
    "version": 3
   },
   "file_extension": ".py",
   "mimetype": "text/x-python",
   "name": "python",
   "nbconvert_exporter": "python",
   "pygments_lexer": "ipython3",
   "version": "3.8.13"
  },
  "toc": {
   "base_numbering": 1,
   "nav_menu": {},
   "number_sections": true,
   "sideBar": true,
   "skip_h1_title": false,
   "title_cell": "Table of Contents",
   "title_sidebar": "Contents",
   "toc_cell": false,
   "toc_position": {},
   "toc_section_display": true,
   "toc_window_display": false
  }
 },
 "nbformat": 4,
 "nbformat_minor": 4
}
