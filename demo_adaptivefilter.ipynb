{
 "cells": [
  {
   "cell_type": "code",
   "execution_count": 1,
   "metadata": {},
   "outputs": [],
   "source": [
    "import numpy as np\n",
    "import matplotlib.pyplot as plt"
   ]
  },
  {
   "cell_type": "code",
   "execution_count": 2,
   "metadata": {
    "scrolled": false
   },
   "outputs": [],
   "source": [
    "# Input-output generation\n",
    "def generate_xy(h, N, sigma = 0.1):\n",
    "    x = np.random.normal(0, 1, N)\n",
    "    y = np.convolve(x, h)\n",
    "    y += np.random.normal(0, sigma, len(y))  # Additive Gaussian noise\n",
    "    \n",
    "    return x,y"
   ]
  },
  {
   "cell_type": "code",
   "execution_count": 3,
   "metadata": {},
   "outputs": [],
   "source": [
    "def lms(x, y, K, mu = 0.01):\n",
    "    N = len(x)\n",
    "    w = np.zeros(K)  # Adaptive filter: initialize\n",
    "    xn = np.zeros(K)  # Array to store [x[n],x[n-1],...,x[n-K+1]]\n",
    "    y_err = np.zeros(N)  # Array to record filtering error\n",
    "    \n",
    "    for n in range(N):\n",
    "        xn[0] = x[n]  # Update most recent (current) value\n",
    "        y_predict = np.dot(xn, w)  # Predict y by xn^T w \n",
    "        e = y_predict - y[n]  # Prediction error\n",
    "        w = w - mu * e * xn  # Update filter by gradient descent\n",
    "        xn = np.roll(xn, 1)  # Circularly shift right by one sample\n",
    "        y_err[n] = e\n",
    "        \n",
    "    return w, y_err"
   ]
  },
  {
   "cell_type": "code",
   "execution_count": 4,
   "metadata": {},
   "outputs": [
    {
     "name": "stdout",
     "output_type": "stream",
     "text": [
      "Estimated filter = [ 1.09728085  1.99508706  2.94246013  4.03496172  5.02566837  0.00569192\n",
      " -0.01385501  0.03589511]\n"
     ]
    },
    {
     "data": {
      "image/png": "[encoded data removed]",
      "text/plain": [
       "<Figure size 432x288 with 1 Axes>"
      ]
     },
     "metadata": {
      "needs_background": "light"
     },
     "output_type": "display_data"
    }
   ],
   "source": [
    "h = np.array([1,2,3,4,5]) # Ground truth filter\n",
    "N = 300\n",
    "x, y = generate_xy(h, N)\n",
    "\n",
    "# Appropriate choice of learning rate\n",
    "mu = 0.1\n",
    "K = 8\n",
    "w, y_err = lms(x, y, K, mu)\n",
    "\n",
    "print('Estimated filter =', w)\n",
    "\n",
    "plt.plot(y_err)\n",
    "plt.title('Filtering error')\n",
    "plt.xlabel('$n$');"
   ]
  },
  {
   "cell_type": "code",
   "execution_count": null,
   "metadata": {},
   "outputs": [],
   "source": []
  }
 ],
 "metadata": {
  "kernelspec": {
   "display_name": "Python 3 (ipykernel)",
   "language": "python",
   "name": "python3"
  },
  "language_info": {
   "codemirror_mode": {
    "name": "ipython",
    "version": 3
   },
   "file_extension": ".py",
   "mimetype": "text/x-python",
   "name": "python",
   "nbconvert_exporter": "python",
   "pygments_lexer": "ipython3",
   "version": "3.9.7"
  },
  "toc": {
   "base_numbering": 1,
   "nav_menu": {},
   "number_sections": true,
   "sideBar": true,
   "skip_h1_title": false,
   "title_cell": "Table of Contents",
   "title_sidebar": "Contents",
   "toc_cell": false,
   "toc_position": {},
   "toc_section_display": true,
   "toc_window_display": false
  }
 },
 "nbformat": 4,
 "nbformat_minor": 2
}
