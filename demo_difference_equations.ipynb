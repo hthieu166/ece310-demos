{
 "cells": [
  {
   "cell_type": "markdown",
   "id": "f177f22d",
   "metadata": {},
   "source": [
    "# Linear Constant-Coefficient Difference Equation (LCCDE)"
   ]
  },
  {
   "cell_type": "code",
   "execution_count": 1,
   "id": "f9d37080",
   "metadata": {},
   "outputs": [],
   "source": [
    "import matplotlib.pyplot as plt\n",
    "import numpy as np\n",
    "from scipy.signal import lfilter"
   ]
  },
  {
   "cell_type": "markdown",
   "id": "67b6bbc5",
   "metadata": {},
   "source": [
    "Consider a simple LCCDE:\n",
    "\n",
    "$$y[n] = \\frac{1}{2} y[n-1] + x[n], \\quad \\text{for } n = 0, 1, 2, \\cdots$$\n",
    "\n",
    "## Impulse response\n",
    "\n",
    "Let's compute the impulse reponse $h$ of the system. This is the output $y$ when the input is $x = \\delta$."
   ]
  },
  {
   "cell_type": "code",
   "execution_count": 2,
   "id": "cfd292f7",
   "metadata": {},
   "outputs": [],
   "source": [
    "N = 10\n",
    "x = np.zeros(N)\n",
    "x[0] = 1"
   ]
  },
  {
   "cell_type": "markdown",
   "id": "11f32204",
   "metadata": {},
   "source": [
    "### Method 1: Direct programming"
   ]
  },
  {
   "cell_type": "code",
   "execution_count": 3,
   "id": "c2434baa",
   "metadata": {},
   "outputs": [],
   "source": [
    "y = np.zeros(N)\n",
    "\n",
    "y[0] = 0 + x[0]    # zero initial state: y[-1] = 0\n",
    "\n",
    "for n in range(1, N):\n",
    "    y[n] = (1/2)*y[n-1] + x[n]"
   ]
  },
  {
   "cell_type": "code",
   "execution_count": 4,
   "id": "070e6103",
   "metadata": {},
   "outputs": [
    {
     "data": {
      "text/plain": [
       "Text(0.5, 1.0, 'y = h')"
      ]
     },
     "execution_count": 4,
     "metadata": {},
     "output_type": "execute_result"
    },
    {
     "data": {
      "image/png": "[encoded data removed]",
      "text/plain": [
       "<Figure size 432x288 with 2 Axes>"
      ]
     },
     "metadata": {
      "needs_background": "light"
     },
     "output_type": "display_data"
    }
   ],
   "source": [
    "plt.subplot(2,1,1)\n",
    "plt.stem(x)\n",
    "plt.title('$x = \\delta$')\n",
    "plt.subplot(2,1,2)\n",
    "plt.stem(y)\n",
    "plt.title('y = h')"
   ]
  },
  {
   "cell_type": "markdown",
   "id": "b889afa9",
   "metadata": {},
   "source": [
    "### Method 2: Using the library function lfilter"
   ]
  },
  {
   "cell_type": "code",
   "execution_count": 5,
   "id": "38c4b637",
   "metadata": {},
   "outputs": [],
   "source": [
    "a = np.array([1, -1/2])\n",
    "b = np.array([1])\n",
    "\n",
    "yl = lfilter(b, a, x)"
   ]
  },
  {
   "cell_type": "code",
   "execution_count": 6,
   "id": "c63cfdcb",
   "metadata": {},
   "outputs": [
    {
     "name": "stdout",
     "output_type": "stream",
     "text": [
      "[0. 0. 0. 0. 0. 0. 0. 0. 0. 0.]\n"
     ]
    }
   ],
   "source": [
    "print(yl - y)"
   ]
  },
  {
   "cell_type": "markdown",
   "id": "44d67084",
   "metadata": {},
   "source": [
    "## Outputs for other inputs"
   ]
  },
  {
   "cell_type": "code",
   "execution_count": 7,
   "id": "60321c05",
   "metadata": {},
   "outputs": [
    {
     "data": {
      "text/plain": [
       "Text(0.5, 1.0, 'y1')"
      ]
     },
     "execution_count": 7,
     "metadata": {},
     "output_type": "execute_result"
    },
    {
     "data": {
      "image/png": "[encoded data removed]",
      "text/plain": [
       "<Figure size 432x288 with 2 Axes>"
      ]
     },
     "metadata": {
      "needs_background": "light"
     },
     "output_type": "display_data"
    }
   ],
   "source": [
    "x1 = np.zeros(N)\n",
    "x1[1] = 1\n",
    "y1 = lfilter(b, a, x1)\n",
    "\n",
    "plt.subplot(2,1,1)\n",
    "plt.stem(x1)\n",
    "plt.title('x1')\n",
    "plt.subplot(2,1,2)\n",
    "plt.stem(y1)\n",
    "plt.title('y1')"
   ]
  },
  {
   "cell_type": "code",
   "execution_count": 8,
   "id": "1ed1655e",
   "metadata": {},
   "outputs": [
    {
     "data": {
      "text/plain": [
       "Text(0.5, 1.0, 'y2')"
      ]
     },
     "execution_count": 8,
     "metadata": {},
     "output_type": "execute_result"
    },
    {
     "data": {
      "image/png": "[encoded data removed]",
      "text/plain": [
       "<Figure size 432x288 with 2 Axes>"
      ]
     },
     "metadata": {
      "needs_background": "light"
     },
     "output_type": "display_data"
    }
   ],
   "source": [
    "x2 = np.zeros(N)\n",
    "x2[0] = 1\n",
    "x2[1] = -1/2\n",
    "\n",
    "y2 = lfilter(b, a, x2)\n",
    "\n",
    "plt.subplot(2,1,1)\n",
    "plt.stem(x2)\n",
    "plt.title('x2')\n",
    "plt.subplot(2,1,2)\n",
    "plt.stem(y2)\n",
    "plt.title('y2')"
   ]
  },
  {
   "cell_type": "code",
   "execution_count": null,
   "id": "96d8488d",
   "metadata": {},
   "outputs": [],
   "source": []
  }
 ],
 "metadata": {
  "kernelspec": {
   "display_name": "Python 3 (ipykernel)",
   "language": "python",
   "name": "python3"
  },
  "language_info": {
   "codemirror_mode": {
    "name": "ipython",
    "version": 3
   },
   "file_extension": ".py",
   "mimetype": "text/x-python",
   "name": "python",
   "nbconvert_exporter": "python",
   "pygments_lexer": "ipython3",
   "version": "3.9.12"
  }
 },
 "nbformat": 4,
 "nbformat_minor": 5
}
